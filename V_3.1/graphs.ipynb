{
 "cells": [
  {
   "cell_type": "markdown",
   "metadata": {},
   "source": [
    "## Merge"
   ]
  },
  {
   "cell_type": "code",
   "execution_count": null,
   "metadata": {},
   "outputs": [],
   "source": [
    "import ROOT\n",
    "import os\n",
    "\n",
    "def get_root_files(directory):\n",
    "    \n",
    "    return [os.path.join(directory, f) for f in os.listdir(directory) if f.endswith('.root') and not f.startswith('merge')]\n",
    "\n",
    "def get_unique_filename(directory, base_name):\n",
    "    counter = 0\n",
    "    while True:\n",
    "        if counter == 0:\n",
    "            filename = os.path.join(directory, f\"{base_name}0.root\")\n",
    "        else:\n",
    "            filename = os.path.join(directory, f\"{base_name}{counter}.root\")\n",
    "        \n",
    "        if not os.path.exists(filename):\n",
    "            return filename\n",
    "        counter = counter + 1\n",
    "\n",
    "def merge_files(file_list, output_file):\n",
    "    \n",
    "    merger = ROOT.TFileMerger()\n",
    "    merger.OutputFile(output_file)\n",
    "    \n",
    "    for i in file_list:\n",
    "        merger.AddFile(i)\n",
    "    \n",
    "    merger.Merge()\n",
    "\n",
    "directory = 'build/root'\n",
    "files = get_root_files(directory)\n",
    "output_filename = get_unique_filename(directory, 'merged')\n",
    "\n",
    "merge_files(files, output_filename)"
   ]
  },
  {
   "cell_type": "markdown",
   "metadata": {},
   "source": [
    "## Draw graph"
   ]
  },
  {
   "cell_type": "code",
   "execution_count": 13,
   "metadata": {},
   "outputs": [
    {
     "name": "stderr",
     "output_type": "stream",
     "text": [
      "Warning in <TCanvas::Constructor>: Deleting canvas with same name: canvas\n",
      "Info in <TCanvas::Print>: png file xy_plot.png has been created\n"
     ]
    }
   ],
   "source": [
    "import ROOT\n",
    "import os\n",
    "\n",
    "def plot_xy_scatter_from_root(input_file, tree_name, x_branch, y_branch, output_image):\n",
    "    \n",
    "    file = ROOT.TFile(input_file, \"READ\")\n",
    "    tree = file.Get(tree_name)\n",
    "    \n",
    "    canvas = ROOT.TCanvas(\"canvas\", \"X vs Y Scatter Plot\", 800, 600)\n",
    "    graph = ROOT.TGraph()\n",
    "    \n",
    "    points = []\n",
    "    for event in tree:\n",
    "        x = getattr(event, x_branch)\n",
    "        y = getattr(event, y_branch)\n",
    "        points.append((x, y))\n",
    "\n",
    "    # Sort points based on x-values\n",
    "    points.sort(key=lambda p: p[0])\n",
    "\n",
    "    # Create a TGraph and add sorted points\n",
    "    graph = ROOT.TGraph()\n",
    "    for i, (x, y) in enumerate(points):\n",
    "        graph.SetPoint(i, x, y)\n",
    "\n",
    "    graph.SetTitle(\"X vs Y Scatter Plot\")\n",
    "    graph.GetXaxis().SetTitle(x_branch)\n",
    "    graph.GetYaxis().SetTitle(y_branch)\n",
    "    graph.SetMarkerStyle(20)  # Circular marker\n",
    "    graph.SetMarkerSize(0.5)\n",
    "    graph.SetLineColor(ROOT.kBlue)\n",
    "    graph.SetLineWidth(2)\n",
    "\n",
    "    graph.Draw(\"ALP\")  # \"A\" for axes, \"P\" for points, \"L\" for line\n",
    "    \n",
    "    canvas.SaveAs(output_image)\n",
    "    file.Close()\n",
    "\n",
    "input_file = os.path.join(directory, \"merged0.root\")\n",
    "tree_name = \"Transportation\"\n",
    "x_branch = \"Energy_keV\"\n",
    "y_branch = \"Mass_Attenuation\"\n",
    "output_image = \"xy_plot.png\"\n",
    "\n",
    "plot_xy_scatter_from_root(input_file, tree_name, x_branch, y_branch, output_image)"
   ]
  }
 ],
 "metadata": {
  "kernelspec": {
   "display_name": "base",
   "language": "python",
   "name": "python3"
  },
  "language_info": {
   "codemirror_mode": {
    "name": "ipython",
    "version": 3
   },
   "file_extension": ".py",
   "mimetype": "text/x-python",
   "name": "python",
   "nbconvert_exporter": "python",
   "pygments_lexer": "ipython3",
   "version": "3.11.9"
  }
 },
 "nbformat": 4,
 "nbformat_minor": 2
}
